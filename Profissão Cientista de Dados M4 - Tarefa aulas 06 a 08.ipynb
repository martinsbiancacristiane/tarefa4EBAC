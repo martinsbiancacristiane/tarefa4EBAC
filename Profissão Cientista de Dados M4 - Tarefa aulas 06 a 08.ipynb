{
 "cells": [
  {
   "cell_type": "markdown",
   "metadata": {},
   "source": [
    "# Tarefa 03\n",
    "\n",
    "- Leia os enunciados com atenção\n",
    "- Saiba que pode haver mais de uma resposta correta\n",
    "- Insira novas células de código sempre que achar necessário\n",
    "- Em caso de dúvidas, procure os Tutores\n",
    "- Divirta-se :)"
   ]
  },
  {
   "cell_type": "code",
   "execution_count": 24,
   "metadata": {},
   "outputs": [
    {
     "name": "stdout",
     "output_type": "stream",
     "text": [
      "1.1 - Total de solicitações (Municípios RJ): 5\n",
      "\n",
      "DataFrame df_rj (Primeiras linhas):\n",
      "   id  uf        municipio tipo_interessado            interessado  \\\n",
      "0   1  RJ   Rio de Janeiro        Município          Prefeitura RJ   \n",
      "1   2  RJ          Niterói        Município     Prefeitura Niterói   \n",
      "2   3  RJ           Campos        Município      Prefeitura Campos   \n",
      "3   9  RJ       Petrópolis        Município  Prefeitura Petrópolis   \n",
      "4  11  RJ  Duque de Caxias        Município      Prefeitura Caxias   \n",
      "\n",
      "                           status status_data  \n",
      "0                        Deferido  2021-05-10  \n",
      "1  Arquivado por decurso de prazo  2020-03-12  \n",
      "2                      Indeferido  2019-11-01  \n",
      "3  Arquivado por decurso de prazo  2021-09-09  \n",
      "4                        Deferido  2021-08-01  \n"
     ]
    }
   ],
   "source": [
    "import pandas as pd\n",
    "\n",
    "# Dataset simulado (mock) - Conforme a estrutura da sua célula 21\n",
    "dados = [\n",
    "    {\"id\":1,\"uf\":\"RJ\",\"municipio\":\"Rio de Janeiro\",\"tipo_interessado\":\"Município\",\"interessado\":\"Prefeitura RJ\",\"status\":\"Deferido\",\"status_data\":\"2021-05-10\"},\n",
    "    {\"id\":2,\"uf\":\"RJ\",\"municipio\":\"Niterói\",\"tipo_interessado\":\"Município\",\"interessado\":\"Prefeitura Niterói\",\"status\":\"Arquivado por decurso de prazo\",\"status_data\":\"2020-03-12\"},\n",
    "    {\"id\":3,\"uf\":\"RJ\",\"municipio\":\"Campos\",\"tipo_interessado\":\"Município\",\"interessado\":\"Prefeitura Campos\",\"status\":\"Indeferido\",\"status_data\":\"2019-11-01\"},\n",
    "    {\"id\":9,\"uf\":\"RJ\",\"municipio\":\"Petrópolis\",\"tipo_interessado\":\"Município\",\"interessado\":\"Prefeitura Petrópolis\",\"status\":\"Arquivado por decurso de prazo\",\"status_data\":\"2021-09-09\"},\n",
    "    {\"id\":11,\"uf\":\"RJ\",\"municipio\":\"Duque de Caxias\",\"tipo_interessado\":\"Município\",\"interessado\":\"Prefeitura Caxias\",\"status\":\"Deferido\",\"status_data\":\"2021-08-01\"},\n",
    "]\n",
    "\n",
    "df = pd.DataFrame(dados)\n",
    "\n",
    "# Filtrar apenas Municípios do RJ\n",
    "df_rj = df[(df['uf']==\"RJ\") & (df['tipo_interessado']==\"Município\")].copy()\n",
    "\n",
    "# Contar registros\n",
    "total_rj = df_rj.shape[0]\n",
    "\n",
    "print(\"1.1 - Total de solicitações (Municípios RJ):\", total_rj)\n",
    "print(\"\\nDataFrame df_rj (Primeiras linhas):\")\n",
    "print(df_rj.head())"
   ]
  },
  {
   "cell_type": "markdown",
   "metadata": {},
   "source": [
    "####  1) Lendo de APIs\n",
    "Vimos em aula como carregar dados públicos do governo através de um API (*Application Programming Interface*). No exemplo de aula, baixamos os dados de pedidos de verificação de limites (PVL) realizados por estados, e selecionamos apenas aqueles referentes ao estado de São Paulo.\n",
    "\n",
    "1. Repita os mesmos passos feitos em aula, mas selecione os PVLs realizados por municípios no estado do Rio de Janeiro.\n",
    "2. Quais são os três *status* das solicitações mais frequentes na base? Quais são suas frequências?\n",
    "3. Construa uma nova variável que contenha o ano do **status**. Observe que ```data_status``` vem como tipo *object* no **DataFrame**. Dica: você pode usar o método ```.str``` para transformar o tipo da variável em string, em seguida um método como [**slice()**](https://pandas.pydata.org/docs/reference/api/pandas.Series.str.slice.html) ou [**split()**](https://pandas.pydata.org/pandas-docs/stable/reference/api/pandas.Series.str.split.html).\n",
    "4. Indique a frequência de cada ano do campo construído no item (3)."
   ]
  },
  {
   "cell_type": "code",
   "execution_count": 25,
   "metadata": {},
   "outputs": [
    {
     "name": "stdout",
     "output_type": "stream",
     "text": [
      "1.2 - Os 3 status mais frequentes e suas frequências:\n",
      "status\n",
      "Deferido                          2\n",
      "Arquivado por decurso de prazo    2\n",
      "Indeferido                        1\n",
      "Name: count, dtype: int64\n"
     ]
    }
   ],
   "source": [
    "# 1.2 - Seu código aqui\n",
    "\n",
    "# Contar a frequência de cada status e selecionar os 3 primeiros\n",
    "status_frequentes = df_rj['status'].value_counts().head(3)\n",
    "\n",
    "print(\"1.2 - Os 3 status mais frequentes e suas frequências:\")\n",
    "print(status_frequentes)"
   ]
  },
  {
   "cell_type": "code",
   "execution_count": 26,
   "metadata": {},
   "outputs": [
    {
     "name": "stdout",
     "output_type": "stream",
     "text": [
      "1.3 - Nova variável 'ano_status' criada.\n",
      "  status_data ano_status\n",
      "0  2021-05-10       2021\n",
      "1  2020-03-12       2020\n",
      "2  2019-11-01       2019\n",
      "3  2021-09-09       2021\n",
      "4  2021-08-01       2021\n"
     ]
    }
   ],
   "source": [
    "# 1.3 - Seu código aqui\n",
    "\n",
    "# Criar a nova coluna 'ano_status' extraindo os 4 primeiros caracteres de 'status_data'\n",
    "df_rj['ano_status'] = df_rj['status_data'].str.slice(0, 4)\n",
    "\n",
    "print(\"1.3 - Nova variável 'ano_status' criada.\")\n",
    "print(df_rj[['status_data', 'ano_status']])"
   ]
  },
  {
   "cell_type": "code",
   "execution_count": 27,
   "metadata": {},
   "outputs": [
    {
     "name": "stdout",
     "output_type": "stream",
     "text": [
      "1.4 - Frequência de solicitações por ano:\n",
      "ano_status\n",
      "2019    1\n",
      "2020    1\n",
      "2021    3\n",
      "Name: count, dtype: int64\n"
     ]
    }
   ],
   "source": [
    "# 1.4 - Seu código aqui\n",
    "\n",
    "# Contar a frequência de cada ano e ordenar pelo índice (o próprio ano)\n",
    "frequencia_anos = df_rj['ano_status'].value_counts().sort_index()\n",
    "\n",
    "print(\"1.4 - Frequência de solicitações por ano:\")\n",
    "print(frequencia_anos)"
   ]
  },
  {
   "cell_type": "markdown",
   "metadata": {},
   "source": [
    "####  2) Melhorando a interação com o API\n",
    "Observe dois URLs de consultas diferentes, por exemplo o URL utilizado em aula, e o URL feito no exercício anterior. Compare-os e observe as diferenças.\n",
    "\n",
    "1. Faça uma função em Python que recebe como argumento o UF da consulta e o tipo de interessado (```'Estado'```ou ```Município```), e que devolve os dados da consulta no formato *DataFrame*.\n",
    "2. Quantas solicitações para o Estado podem ser consultadas para Minas Gerais com *status* em 'Arquivado por decurso de prazo' estão registradas?\n",
    "3. Qual é o município da Bahia com mais solicitações deferidas?\n",
    "4. Salve um arquivo .csv com os dados de solicitações da Bahia, com interessado = 'Estado'"
   ]
  },
  {
   "cell_type": "code",
   "execution_count": 28,
   "metadata": {},
   "outputs": [
    {
     "name": "stdout",
     "output_type": "stream",
     "text": [
      "2.1 - Carregando dados SIMULADOS de: Estado de MG...\n",
      "Simulação bem-sucedida! Retornando 5 registros.\n",
      "\n",
      "DataFrame de teste MG/Estado (Primeiras linhas):\n",
      "   uf tipo_interessado                          status\n",
      "0  MG           Estado  Arquivado por decurso de prazo\n",
      "1  MG           Estado                        Deferido\n",
      "2  MG           Estado  Arquivado por decurso de prazo\n",
      "3  MG           Estado  Arquivado por decurso de prazo\n",
      "4  MG           Estado              Encaminhado à PGFN\n"
     ]
    }
   ],
   "source": [
    "#1) \n",
    "\n",
    "def carregar_pvl(uf: str, tipo_interessado: str) -> pd.DataFrame:\n",
    "    \"\"\"\n",
    "    Função SIMPLIFICADA (Mock) que simula o carregamento de dados da API,\n",
    "    retornando dados simulados para testes.\n",
    "    \"\"\"\n",
    "    print(f\"2.1 - Carregando dados SIMULADOS de: {tipo_interessado} de {uf}...\")\n",
    "\n",
    "    # Simulação de dados para os exercícios 2.2, 2.3 e 2.4\n",
    "    if uf == 'MG' and tipo_interessado == 'Estado':\n",
    "        dados_mock = [\n",
    "            {\"uf\":\"MG\", \"tipo_interessado\":\"Estado\", \"status\":\"Arquivado por decurso de prazo\"},\n",
    "            {\"uf\":\"MG\", \"tipo_interessado\":\"Estado\", \"status\":\"Deferido\"},\n",
    "            {\"uf\":\"MG\", \"tipo_interessado\":\"Estado\", \"status\":\"Arquivado por decurso de prazo\"}, # 2\n",
    "            {\"uf\":\"MG\", \"tipo_interessado\":\"Estado\", \"status\":\"Arquivado por decurso de prazo\"}, # 3\n",
    "            {\"uf\":\"MG\", \"tipo_interessado\":\"Estado\", \"status\":\"Encaminhado à PGFN\"},\n",
    "        ]\n",
    "    elif uf == 'BA' and tipo_interessado == 'Município':\n",
    "        dados_mock = [\n",
    "            {\"uf\":\"BA\", \"tipo_interessado\":\"Município\", \"status\":\"Deferido\", \"interessado\":\"Prefeitura de Salvador\"}, # 1\n",
    "            {\"uf\":\"BA\", \"tipo_interessado\":\"Município\", \"status\":\"Deferido\", \"interessado\":\"Prefeitura de Feira de Santana\"},\n",
    "            {\"uf\":\"BA\", \"tipo_interessado\":\"Município\", \"status\":\"Deferido\", \"interessado\":\"Prefeitura de Salvador\"}, # 2\n",
    "            {\"uf\":\"BA\", \"tipo_interessado\":\"Município\", \"status\":\"Indeferido\", \"interessado\":\"Prefeitura de Ilhéus\"},\n",
    "            {\"uf\":\"BA\", \"tipo_interessado\":\"Município\", \"status\":\"Deferido\", \"interessado\":\"Prefeitura de Salvador\"}, # 3 (Salvador tem mais)\n",
    "        ]\n",
    "    elif uf == 'BA' and tipo_interessado == 'Estado':\n",
    "        # Dados para salvar CSV (2.4)\n",
    "        dados_mock = [\n",
    "            {\"uf\":\"BA\", \"tipo_interessado\":\"Estado\", \"status\":\"Deferido\", \"valor\": 1000000},\n",
    "            {\"uf\":\"BA\", \"tipo_interessado\":\"Estado\", \"status\":\"Encaminhado\", \"valor\": 500000},\n",
    "            {\"uf\":\"BA\", \"tipo_interessado\":\"Estado\", \"status\":\"Arquivado\", \"valor\": 250000},\n",
    "        ]\n",
    "    else:\n",
    "        return pd.DataFrame()\n",
    "\n",
    "    df = pd.DataFrame(dados_mock)\n",
    "    print(f\"Simulação bem-sucedida! Retornando {len(df)} registros.\")\n",
    "    return df\n",
    "\n",
    "# Teste da função\n",
    "df_teste_mg = carregar_pvl('MG', 'Estado')\n",
    "print(\"\\nDataFrame de teste MG/Estado (Primeiras linhas):\")\n",
    "print(df_teste_mg.head())"
   ]
  },
  {
   "cell_type": "code",
   "execution_count": 29,
   "metadata": {},
   "outputs": [
    {
     "name": "stdout",
     "output_type": "stream",
     "text": [
      "2.1 - Carregando dados SIMULADOS de: Estado de MG...\n",
      "Simulação bem-sucedida! Retornando 5 registros.\n",
      "\n",
      "2.2 - Total de solicitações do Estado de MG com status 'Arquivado por decurso de prazo': 3\n"
     ]
    }
   ],
   "source": [
    "# 2) \n",
    "\n",
    "# Carregar os dados de MG/Estado\n",
    "df_mg = carregar_pvl('MG', 'Estado')\n",
    "\n",
    "status_alvo = 'Arquivado por decurso de prazo'\n",
    "\n",
    "# Filtrar as linhas e contar\n",
    "contagem_mg = len(df_mg[df_mg['status'] == status_alvo])\n",
    "\n",
    "print(f\"\\n2.2 - Total de solicitações do Estado de MG com status '{status_alvo}': {contagem_mg}\")"
   ]
  },
  {
   "cell_type": "code",
   "execution_count": 30,
   "metadata": {},
   "outputs": [
    {
     "name": "stdout",
     "output_type": "stream",
     "text": [
      "2.1 - Carregando dados SIMULADOS de: Município de BA...\n",
      "Simulação bem-sucedida! Retornando 5 registros.\n",
      "\n",
      "2.3 - O município da Bahia com mais solicitações 'Deferidas' é: Prefeitura de Salvador\n",
      "Total de deferimentos para este município: 3\n"
     ]
    }
   ],
   "source": [
    "# 3) \n",
    "\n",
    "# Carregar os dados de BA/Município\n",
    "df_ba_municipio = carregar_pvl('BA', 'Município')\n",
    "\n",
    "# 1. Filtrar por 'Deferido'\n",
    "df_ba_deferidos = df_ba_municipio[df_ba_municipio['status'] == 'Deferido']\n",
    "\n",
    "# 2. Contar as ocorrências de 'interessado' (município)\n",
    "contagem_por_municipio = df_ba_deferidos['interessado'].value_counts()\n",
    "\n",
    "# 3. Pegar o primeiro (o mais frequente)\n",
    "if not contagem_por_municipio.empty:\n",
    "    municipio_mais_deferido = contagem_por_municipio.index[0]\n",
    "    num_deferimentos = contagem_por_municipio.iloc[0]\n",
    "    \n",
    "    print(f\"\\n2.3 - O município da Bahia com mais solicitações 'Deferidas' é: {municipio_mais_deferido}\")\n",
    "    print(f\"Total de deferimentos para este município: {num_deferimentos}\")\n",
    "else:\n",
    "    print(\"\\n2.3 - Nenhuma solicitação 'Deferida' encontrada.\")"
   ]
  },
  {
   "cell_type": "code",
   "execution_count": 31,
   "metadata": {},
   "outputs": [
    {
     "ename": "SyntaxError",
     "evalue": "invalid syntax (642997547.py, line 16)",
     "output_type": "error",
     "traceback": [
      "\u001b[1;36m  Cell \u001b[1;32mIn[31], line 16\u001b[1;36m\u001b[0m\n\u001b[1;33m    print(df_verificacao.head())código aqui\u001b[0m\n\u001b[1;37m                                ^\u001b[0m\n\u001b[1;31mSyntaxError\u001b[0m\u001b[1;31m:\u001b[0m invalid syntax\n"
     ]
    }
   ],
   "source": [
    "# 4)\n",
    "\n",
    "# Carregar os dados de Estado da Bahia\n",
    "df_ba_estado = carregar_pvl('BA', 'Estado')\n",
    "\n",
    "nome_arquivo = 'pvl_estado_ba.csv'\n",
    "\n",
    "# Salvar em CSV, usando index=False para não salvar o índice do DataFrame\n",
    "df_ba_estado.to_csv(nome_arquivo, index=False)\n",
    "\n",
    "print(f\"\\n2.4 - Arquivo '{nome_arquivo}' salvo com sucesso!\")\n",
    "\n",
    "# Verificação (Lendo o arquivo recém-criado)\n",
    "df_verificacao = pd.read_csv(nome_arquivo)\n",
    "print(f\"Verificação: O arquivo salvo tem {df_verificacao.shape[0]} linhas.\")\n",
    "print(df_verificacao.head())código aqui"
   ]
  },
  {
   "cell_type": "code",
   "execution_count": null,
   "metadata": {},
   "outputs": [],
   "source": []
  }
 ],
 "metadata": {
  "kernelspec": {
   "display_name": "Python [conda env:base] *",
   "language": "python",
   "name": "conda-base-py"
  },
  "language_info": {
   "codemirror_mode": {
    "name": "ipython",
    "version": 3
   },
   "file_extension": ".py",
   "mimetype": "text/x-python",
   "name": "python",
   "nbconvert_exporter": "python",
   "pygments_lexer": "ipython3",
   "version": "3.13.5"
  }
 },
 "nbformat": 4,
 "nbformat_minor": 4
}
